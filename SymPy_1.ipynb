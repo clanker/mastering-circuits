{
  "cells": [
    {
      "cell_type": "markdown",
      "metadata": {
        "id": "view-in-github",
        "colab_type": "text"
      },
      "source": [
        "<a href=\"https://colab.research.google.com/github/clanker/mastering-circuits/blob/main/SymPy_1.ipynb\" target=\"_parent\"><img src=\"https://colab.research.google.com/assets/colab-badge.svg\" alt=\"Open In Colab\"/></a>"
      ]
    },
    {
      "cell_type": "markdown",
      "source": [
        "https://docs.sympy.org/latest/tutorials/intro-tutorial/\n",
        "\n",
        "Running symbolic math to perform differentiation, integration, or to solve systems of equations."
      ],
      "metadata": {
        "id": "ZisIH_rPRhBE"
      }
    },
    {
      "cell_type": "code",
      "source": [
        "# Preliminary code\n",
        "import sympy\n",
        "from sympy.plotting import plot\n",
        "sympy.init_session(use_unicode=True)  # must use this for nice printing!!\n",
        "# x, y, z, t (symbols);  k, m, n (integers);  f, g, h (functions)"
      ],
      "metadata": {
        "id": "YnxhvrTlRY6F",
        "outputId": "e8f31089-abb3-4eb1-ecba-c9aaa913d33d",
        "colab": {
          "base_uri": "https://localhost:8080/"
        }
      },
      "execution_count": null,
      "outputs": [
        {
          "output_type": "stream",
          "name": "stdout",
          "text": [
            "IPython console for SymPy 1.12 (Python 3.10.12-64-bit) (ground types: python)\n",
            "\n",
            "These commands were executed:\n",
            ">>> from sympy import *\n",
            ">>> x, y, z, t = symbols('x y z t')\n",
            ">>> k, m, n = symbols('k m n', integer=True)\n",
            ">>> f, g, h = symbols('f g h', cls=Function)\n",
            ">>> init_printing()\n",
            "\n",
            "Documentation can be found at https://docs.sympy.org/1.12/\n",
            "\n"
          ]
        }
      ]
    },
    {
      "cell_type": "code",
      "source": [
        "expr = cos(x)\n",
        "diff(expr).subs(x, 0).evalf()\n",
        "integrate(expr, (x, 0, pi/2))\n",
        "expand((x+1)**3)\n",
        "factor(x**2+2*x+1)"
      ],
      "metadata": {
        "colab": {
          "base_uri": "https://localhost:8080/",
          "height": 37
        },
        "id": "onhffOuHqr2T",
        "outputId": "bd95f3a6-7faa-4e5d-b6a3-51b7de41c779"
      },
      "execution_count": null,
      "outputs": [
        {
          "output_type": "execute_result",
          "data": {
            "text/plain": [
              "0"
            ],
            "text/latex": "$\\displaystyle 0$"
          },
          "metadata": {},
          "execution_count": 6
        }
      ]
    },
    {
      "cell_type": "code",
      "source": [
        "i1, i2, i3 = symbols('i1 i2 i3')\n",
        "linsolve([-60+8*i1+17.5*i2-3*i3, -8*i1+18*i2-4*i3, 1920-6*i1-50*i2+26*i3], (i1,i2,i3))"
      ],
      "metadata": {
        "colab": {
          "base_uri": "https://localhost:8080/",
          "height": 37
        },
        "id": "G5RbDUTDs5vU",
        "outputId": "339e0509-f2ad-4010-d51d-35b8ed6ee305"
      },
      "execution_count": null,
      "outputs": [
        {
          "output_type": "execute_result",
          "data": {
            "text/plain": [
              "{(10.0, -20.0, -110.0)}"
            ],
            "text/latex": "$\\displaystyle \\left\\{\\left( 10.0, \\  -20.0, \\  -110.0\\right)\\right\\}$"
          },
          "metadata": {},
          "execution_count": 16
        }
      ]
    },
    {
      "cell_type": "markdown",
      "source": [
        "Inductor, current given:"
      ],
      "metadata": {
        "id": "JCESbCDhIWsa"
      }
    },
    {
      "cell_type": "code",
      "source": [
        "i = 10*t*exp(-5*t)\n",
        "v = 0.1*diff(i, t)\n",
        "simplify(v)"
      ],
      "metadata": {
        "colab": {
          "base_uri": "https://localhost:8080/",
          "height": 38
        },
        "id": "CWQVOTEA0Zt3",
        "outputId": "a69df81f-179d-4e87-e978-fa01259b9e60"
      },
      "execution_count": null,
      "outputs": [
        {
          "output_type": "execute_result",
          "data": {
            "text/plain": [
              "               -5⋅t\n",
              "(1.0 - 5.0⋅t)⋅ℯ    "
            ],
            "text/latex": "$\\displaystyle \\left(1.0 - 5.0 t\\right) e^{- 5 t}$"
          },
          "metadata": {},
          "execution_count": 17
        }
      ]
    },
    {
      "cell_type": "code",
      "source": [
        "p = i*v\n",
        "simplify(p)"
      ],
      "metadata": {
        "colab": {
          "base_uri": "https://localhost:8080/",
          "height": 38
        },
        "id": "TULLH0N11k-u",
        "outputId": "958b3a2d-4b80-4c90-d9f4-198f765bb50a"
      },
      "execution_count": null,
      "outputs": [
        {
          "output_type": "execute_result",
          "data": {
            "text/plain": [
              "                       -10⋅t\n",
              "1.0⋅t⋅(10.0 - 50.0⋅t)⋅ℯ     "
            ],
            "text/latex": "$\\displaystyle 1.0 t \\left(10.0 - 50.0 t\\right) e^{- 10 t}$"
          },
          "metadata": {},
          "execution_count": 18
        }
      ]
    },
    {
      "cell_type": "code",
      "source": [
        "integrate(p, (t, 0, 0.2))"
      ],
      "metadata": {
        "colab": {
          "base_uri": "https://localhost:8080/",
          "height": 37
        },
        "id": "X_AQjYCM5i3l",
        "outputId": "f429a70a-b466-4987-91a2-e38d94d9a62e"
      },
      "execution_count": null,
      "outputs": [
        {
          "output_type": "execute_result",
          "data": {
            "text/plain": [
              "0.0270670566473225"
            ],
            "text/latex": "$\\displaystyle 0.0270670566473225$"
          },
          "metadata": {},
          "execution_count": 33
        }
      ]
    },
    {
      "cell_type": "code",
      "source": [
        "integrate(p, (t, 0.2, oo))"
      ],
      "metadata": {
        "colab": {
          "base_uri": "https://localhost:8080/",
          "height": 37
        },
        "id": "eOHhh50354TX",
        "outputId": "a63b8bb4-bffe-4ba8-818c-a751b173fd7c"
      },
      "execution_count": null,
      "outputs": [
        {
          "output_type": "execute_result",
          "data": {
            "text/plain": [
              "-0.0270670566473225"
            ],
            "text/latex": "$\\displaystyle -0.0270670566473225$"
          },
          "metadata": {},
          "execution_count": 34
        }
      ]
    },
    {
      "cell_type": "code",
      "source": [
        "w_o = Integral(p, t).doit()\n",
        "w_o"
      ],
      "metadata": {
        "colab": {
          "base_uri": "https://localhost:8080/",
          "height": 38
        },
        "id": "8iq1r5YW7LU-",
        "outputId": "4762ddb5-5a57-4c83-a40f-24adfd9226ad"
      },
      "execution_count": null,
      "outputs": [
        {
          "output_type": "execute_result",
          "data": {
            "text/plain": [
              "     2  -10⋅t\n",
              "5.0⋅t ⋅ℯ     "
            ],
            "text/latex": "$\\displaystyle 5.0 t^{2} e^{- 10 t}$"
          },
          "metadata": {},
          "execution_count": 21
        }
      ]
    },
    {
      "cell_type": "markdown",
      "source": [
        "After integration, we must find the constant. Since `w_o(0) = 0` and Energy is 0 at `t = 0`, then `c = 0`."
      ],
      "metadata": {
        "id": "ddvWVJBAQSGl"
      }
    },
    {
      "cell_type": "code",
      "source": [
        "w = w_o\n",
        "ll = (t, 0, 2)\n",
        "plot(p, i, v, w, ll).save('temp.png')"
      ],
      "metadata": {
        "id": "M2dn-IHJ6FSG"
      },
      "execution_count": null,
      "outputs": []
    },
    {
      "cell_type": "markdown",
      "source": [
        "Inductor, voltage given:"
      ],
      "metadata": {
        "id": "0qLAHr8RITWc"
      }
    },
    {
      "cell_type": "code",
      "source": [
        "v = 20*t*exp(-10*t)\n",
        "i_o = Integral(10*v, t).doit()\n",
        "simplify(i_o)"
      ],
      "metadata": {
        "colab": {
          "base_uri": "https://localhost:8080/",
          "height": 38
        },
        "id": "gAZdxqkxIdVT",
        "outputId": "74853662-a72b-4d7b-e514-e6ce44f70453"
      },
      "execution_count": null,
      "outputs": [
        {
          "output_type": "execute_result",
          "data": {
            "text/plain": [
              "               -10⋅t\n",
              "2⋅(-10⋅t - 1)⋅ℯ     "
            ],
            "text/latex": "$\\displaystyle 2 \\left(- 10 t - 1\\right) e^{- 10 t}$"
          },
          "metadata": {},
          "execution_count": 23
        }
      ]
    },
    {
      "cell_type": "code",
      "source": [
        "# Current at t=0 is i0\n",
        "i0 = 0.\n",
        "c0 = i0 - i_o.subs(t, 0)\n",
        "i = i_o + c0\n",
        "simplify(i)"
      ],
      "metadata": {
        "colab": {
          "base_uri": "https://localhost:8080/",
          "height": 38
        },
        "id": "8bUYgM-7rjR_",
        "outputId": "2fc96ac6-0916-43b7-8291-ac612dc2e077"
      },
      "execution_count": null,
      "outputs": [
        {
          "output_type": "execute_result",
          "data": {
            "text/plain": [
              "⎛             10⋅t    ⎞  -10⋅t\n",
              "⎝-20⋅t + 2.0⋅ℯ     - 2⎠⋅ℯ     "
            ],
            "text/latex": "$\\displaystyle \\left(- 20 t + 2.0 e^{10 t} - 2\\right) e^{- 10 t}$"
          },
          "metadata": {},
          "execution_count": 36
        }
      ]
    },
    {
      "cell_type": "code",
      "source": [
        "p = i*v\n",
        "simplify(p)"
      ],
      "metadata": {
        "colab": {
          "base_uri": "https://localhost:8080/",
          "height": 38
        },
        "id": "NSLGJFEwJlza",
        "outputId": "e87bba0f-7bfd-48a8-feab-032c7a634c8b"
      },
      "execution_count": null,
      "outputs": [
        {
          "output_type": "execute_result",
          "data": {
            "text/plain": [
              "      ⎛                 10⋅t       ⎞  -20⋅t\n",
              "1.0⋅t⋅⎝-400.0⋅t + 40.0⋅ℯ     - 40.0⎠⋅ℯ     "
            ],
            "text/latex": "$\\displaystyle 1.0 t \\left(- 400.0 t + 40.0 e^{10 t} - 40.0\\right) e^{- 20 t}$"
          },
          "metadata": {},
          "execution_count": 37
        }
      ]
    },
    {
      "cell_type": "code",
      "source": [
        "w_o = Integral(p, t).doit()\n",
        "simplify(w_o)"
      ],
      "metadata": {
        "colab": {
          "base_uri": "https://localhost:8080/",
          "height": 38
        },
        "id": "mY6F6gkwKv08",
        "outputId": "0dd231da-665e-459f-a402-b3083cb5eb5a"
      },
      "execution_count": null,
      "outputs": [
        {
          "output_type": "execute_result",
          "data": {
            "text/plain": [
              "⎛      2                          10⋅t      ⎞  -20⋅t\n",
              "⎝20.0⋅t  + 4.0⋅t - (4.0⋅t + 0.4)⋅ℯ     + 0.2⎠⋅ℯ     "
            ],
            "text/latex": "$\\displaystyle \\left(20.0 t^{2} + 4.0 t - \\left(4.0 t + 0.4\\right) e^{10 t} + 0.2\\right) e^{- 20 t}$"
          },
          "metadata": {},
          "execution_count": 38
        }
      ]
    },
    {
      "cell_type": "code",
      "source": [
        "# No energy at t=0 (i=0)\n",
        "w0 = 0.\n",
        "c0 = w0 - w_o.subs(t, 0)\n",
        "w = w_o + c0\n",
        "simplify(w)"
      ],
      "metadata": {
        "colab": {
          "base_uri": "https://localhost:8080/",
          "height": 38
        },
        "id": "xB5HPAA0srxg",
        "outputId": "78e9e0d7-d8f5-405e-a689-f796b5fa6ccd"
      },
      "execution_count": null,
      "outputs": [
        {
          "output_type": "execute_result",
          "data": {
            "text/plain": [
              "⎛      2                          10⋅t        20⋅t      ⎞  -20⋅t\n",
              "⎝20.0⋅t  + 4.0⋅t - (4.0⋅t + 0.4)⋅ℯ     + 0.2⋅ℯ     + 0.2⎠⋅ℯ     "
            ],
            "text/latex": "$\\displaystyle \\left(20.0 t^{2} + 4.0 t - \\left(4.0 t + 0.4\\right) e^{10 t} + 0.2 e^{20 t} + 0.2\\right) e^{- 20 t}$"
          },
          "metadata": {},
          "execution_count": 39
        }
      ]
    },
    {
      "cell_type": "code",
      "source": [
        "ll = (t, 0, 2)\n",
        "plot(i, v, p, w, ll).save('temp2.png')"
      ],
      "metadata": {
        "id": "419wXE5qrIog"
      },
      "execution_count": null,
      "outputs": []
    },
    {
      "cell_type": "code",
      "source": [
        "a = plot(i, v, p, w, ll)"
      ],
      "metadata": {
        "id": "GmJssV-5tSGe"
      },
      "execution_count": null,
      "outputs": []
    },
    {
      "cell_type": "code",
      "source": [
        "s = ['i', 'v', 'p', 'w']\n",
        "for n, line in enumerate(a):\n",
        "    line.label=s[n]\n",
        "    #line.line_color\n",
        "a.legend = True\n",
        "a.title = 'Inductor waveforms'\n",
        "a.ylabel = \"i(t)\""
      ],
      "metadata": {
        "colab": {
          "base_uri": "https://localhost:8080/"
        },
        "id": "0Ib_LW1ztTwq",
        "outputId": "f690b5da-cc74-42e6-cd22-6df30b9b2916"
      },
      "execution_count": null,
      "outputs": [
        {
          "output_type": "stream",
          "name": "stdout",
          "text": [
            "0 i\n",
            "1 v\n",
            "2 p\n",
            "3 w\n"
          ]
        }
      ]
    },
    {
      "cell_type": "code",
      "source": [
        "a.save('temp2.png')"
      ],
      "metadata": {
        "id": "_x2lS1FxuWY3"
      },
      "execution_count": null,
      "outputs": []
    },
    {
      "cell_type": "markdown",
      "source": [
        "Problem 6.1"
      ],
      "metadata": {
        "id": "5Xi0xFHm07Qz"
      }
    },
    {
      "cell_type": "code",
      "source": [
        "mt = symbols('mt')\n",
        "v = -9.6*exp(-0.300*mt) + 38.4*exp(-1.200*mt)\n",
        "solveset(v, mt, S.Reals)"
      ],
      "metadata": {
        "colab": {
          "base_uri": "https://localhost:8080/",
          "height": 37
        },
        "id": "HBzzPtE606xV",
        "outputId": "d8053a28-eba5-42c6-de90-d558eae5ed2b"
      },
      "execution_count": null,
      "outputs": [
        {
          "output_type": "execute_result",
          "data": {
            "text/plain": [
              "{1.54032706791099}"
            ],
            "text/latex": "$\\displaystyle \\left\\{1.54032706791099\\right\\}$"
          },
          "metadata": {},
          "execution_count": 136
        }
      ]
    },
    {
      "cell_type": "code",
      "source": [
        "i = 8*exp(-0.300*mt) - 8*exp(-1.200*mt)\n",
        "p = i*v\n",
        "p = simplify(p)\n",
        "dpdt = simplify(diff(p, mt))\n",
        "dpdt"
      ],
      "metadata": {
        "colab": {
          "base_uri": "https://localhost:8080/",
          "height": 38
        },
        "id": "k6Cyp_xjwypr",
        "outputId": "8b83fef7-aebb-48ac-c5e6-2bae5bce9399"
      },
      "execution_count": null,
      "outputs": [
        {
          "output_type": "execute_result",
          "data": {
            "text/plain": [
              "        -2.4⋅mt          -1.5⋅mt          -0.6⋅mt\n",
              "737.28⋅ℯ        - 576.0⋅ℯ        + 46.08⋅ℯ       "
            ],
            "text/latex": "$\\displaystyle 737.28 e^{- 2.4 mt} - 576.0 e^{- 1.5 mt} + 46.08 e^{- 0.6 mt}$"
          },
          "metadata": {},
          "execution_count": 137
        }
      ]
    },
    {
      "cell_type": "code",
      "source": [
        "plot(i, v, p, dpdt, (mt, 0, 5)).save('temp3.png')"
      ],
      "metadata": {
        "colab": {
          "base_uri": "https://localhost:8080/"
        },
        "id": "-v5lmuH-1_m9",
        "outputId": "e7a8e6e5-44e4-427c-f5c4-2a950cc35cad"
      },
      "execution_count": null,
      "outputs": [
        {
          "output_type": "stream",
          "name": "stderr",
          "text": [
            "/usr/local/lib/python3.10/dist-packages/sympy/plotting/plot.py:1306: RuntimeWarning: More than 20 figures have been opened. Figures created through the pyplot interface (`matplotlib.pyplot.figure`) are retained until explicitly closed and may consume too much memory. (To control this warning, see the rcParam `figure.max_open_warning`). Consider using `matplotlib.pyplot.close()`.\n",
            "  self.fig = self.plt.figure(figsize=parent.size)\n"
          ]
        }
      ]
    },
    {
      "cell_type": "code",
      "source": [
        "from sympy.solvers import solve\n",
        "# find maximum power\n",
        "solve(dpdt, mt, domain = S.Reals)"
      ],
      "metadata": {
        "colab": {
          "base_uri": "https://localhost:8080/",
          "height": 37
        },
        "id": "-kTkb7cL5kI-",
        "outputId": "e44ec125-cf21-4327-cd3b-f6ac60c3d27e"
      },
      "execution_count": null,
      "outputs": [
        {
          "output_type": "execute_result",
          "data": {
            "text/plain": [
              "[0.411051404934985, 2.66960273088699]"
            ],
            "text/latex": "$\\displaystyle \\left[ 0.411051404934985, \\  2.66960273088699\\right]$"
          },
          "metadata": {},
          "execution_count": 142
        }
      ]
    },
    {
      "cell_type": "code",
      "source": [
        "dpdt.subs(mt, 0.411051405)   # check that dpdt is zero at this mt"
      ],
      "metadata": {
        "colab": {
          "base_uri": "https://localhost:8080/",
          "height": 37
        },
        "id": "pSMb-z8L_QMz",
        "outputId": "b3fd06af-f269-4e99-8fab-f5e5e30e09d3"
      },
      "execution_count": null,
      "outputs": [
        {
          "output_type": "execute_result",
          "data": {
            "text/plain": [
              "-1.39789904096688e-8"
            ],
            "text/latex": "$\\displaystyle -1.39789904096688 \\cdot 10^{-8}$"
          },
          "metadata": {},
          "execution_count": 144
        }
      ]
    },
    {
      "cell_type": "code",
      "source": [
        "p.subs(mt, 0.411051405)"
      ],
      "metadata": {
        "colab": {
          "base_uri": "https://localhost:8080/",
          "height": 37
        },
        "id": "ATSv2ebO_cwE",
        "outputId": "6d6975ad-2548-45ff-e190-330f74908a49"
      },
      "execution_count": null,
      "outputs": [
        {
          "output_type": "execute_result",
          "data": {
            "text/plain": [
              "32.7192875161351"
            ],
            "text/latex": "$\\displaystyle 32.7192875161351$"
          },
          "metadata": {},
          "execution_count": 145
        }
      ]
    },
    {
      "cell_type": "code",
      "source": [
        "w_o = Integral(p.subs(mt, 1000*t), t).doit()  # easy to get back to t\n",
        "# important to switch back to t (from mt) when performing calculus\n",
        "w_o = simplify(w_o)\n",
        "w_o"
      ],
      "metadata": {
        "colab": {
          "base_uri": "https://localhost:8080/",
          "height": 38
        },
        "id": "qS6xCDaj_sXA",
        "outputId": "db2feb36-4ae4-44b8-c7dd-43a68b52ffa6"
      },
      "execution_count": null,
      "outputs": [
        {
          "output_type": "execute_result",
          "data": {
            "text/plain": [
              "       -2400.0⋅t          -1500.0⋅t          -600.0⋅t\n",
              "0.128⋅ℯ          - 0.256⋅ℯ          + 0.128⋅ℯ        "
            ],
            "text/latex": "$\\displaystyle 0.128 e^{- 2400.0 t} - 0.256 e^{- 1500.0 t} + 0.128 e^{- 600.0 t}$"
          },
          "metadata": {},
          "execution_count": 149
        }
      ]
    },
    {
      "cell_type": "code",
      "source": [
        "# w = w_o because w_o(0) = 0 (since i(0) = 0.)\n",
        "w_o.subs(t, 1.5403270679/1000)"
      ],
      "metadata": {
        "colab": {
          "base_uri": "https://localhost:8080/",
          "height": 37
        },
        "id": "2tLVfiD9__5p",
        "outputId": "b4968f82-5209-42d0-fb3e-f116a77f2d2a"
      },
      "execution_count": null,
      "outputs": [
        {
          "output_type": "execute_result",
          "data": {
            "text/plain": [
              "0.0285732189354276"
            ],
            "text/latex": "$\\displaystyle 0.0285732189354276$"
          },
          "metadata": {},
          "execution_count": 150
        }
      ]
    },
    {
      "cell_type": "code",
      "source": [
        "import sympy\n",
        "sympy.init_session()\n",
        "c, t = symbols('c t')\n",
        "L = 0.0025\n",
        "v1 = 3*exp(-4*t)/1e3\n",
        "v2 = -3*exp(-4*(t-2))/1e3\n",
        "i1_o = simplify(Integral(v1, t).doit())/L\n",
        "c0 = solve(c + i1_o.subs(t, 0) - 1, c)[0]\n",
        "i1 = i1_o + c0\n",
        "i1"
      ],
      "metadata": {
        "colab": {
          "base_uri": "https://localhost:8080/",
          "height": 225
        },
        "id": "GLvbCkD7AGVv",
        "outputId": "7fab97d6-e7a4-467b-acf0-88066c5cc597"
      },
      "execution_count": null,
      "outputs": [
        {
          "output_type": "stream",
          "name": "stdout",
          "text": [
            "IPython console for SymPy 1.12 (Python 3.10.12-64-bit) (ground types: python)\n",
            "\n",
            "These commands were executed:\n",
            ">>> from sympy import *\n",
            ">>> x, y, z, t = symbols('x y z t')\n",
            ">>> k, m, n = symbols('k m n', integer=True)\n",
            ">>> f, g, h = symbols('f g h', cls=Function)\n",
            ">>> init_printing()\n",
            "\n",
            "Documentation can be found at https://docs.sympy.org/1.12/\n",
            "\n"
          ]
        },
        {
          "output_type": "execute_result",
          "data": {
            "text/plain": [
              "           -4⋅t\n",
              "1.3 - 0.3⋅ℯ    "
            ],
            "text/latex": "$\\displaystyle 1.3 - 0.3 e^{- 4 t}$"
          },
          "metadata": {},
          "execution_count": 20
        }
      ]
    },
    {
      "cell_type": "code",
      "source": [
        "i2_o = simplify(Integral(v2, t).doit())/L\n",
        "c0 = solve(c + i2_o.subs(t, 2) - i1.subs(t, 2), c)[0]\n",
        "i2 = i2_o + c0\n",
        "i2\n"
      ],
      "metadata": {
        "colab": {
          "base_uri": "https://localhost:8080/",
          "height": 38
        },
        "id": "ZkkZN0-WWF4Q",
        "outputId": "182de400-565f-412b-bc60-576a34ecf41b"
      },
      "execution_count": null,
      "outputs": [
        {
          "output_type": "execute_result",
          "data": {
            "text/plain": [
              "     8 - 4⋅t                    \n",
              "0.3⋅ℯ        + 0.999899361211629"
            ],
            "text/latex": "$\\displaystyle 0.3 e^{8 - 4 t} + 0.999899361211629$"
          },
          "metadata": {},
          "execution_count": 21
        }
      ]
    }
  ],
  "metadata": {
    "colab": {
      "provenance": [],
      "include_colab_link": true
    },
    "kernelspec": {
      "display_name": "Python 3",
      "name": "python3"
    }
  },
  "nbformat": 4,
  "nbformat_minor": 0
}