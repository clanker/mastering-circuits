{
  "cells": [
    {
      "cell_type": "markdown",
      "metadata": {
        "id": "view-in-github",
        "colab_type": "text"
      },
      "source": [
        "<a href=\"https://colab.research.google.com/github/clanker/mastering-circuits/blob/main/SymPy_guide.ipynb\" target=\"_parent\"><img src=\"https://colab.research.google.com/assets/colab-badge.svg\" alt=\"Open In Colab\"/></a>"
      ]
    },
    {
      "cell_type": "markdown",
      "source": [
        "https://docs.sympy.org/latest/tutorials/intro-tutorial/\n",
        "\n",
        "Running symbolic math to perform differentiation, integration, or to solve systems of equations."
      ],
      "metadata": {
        "id": "ZisIH_rPRhBE"
      }
    },
    {
      "cell_type": "code",
      "source": [
        "# Preliminary code\n",
        "import sympy\n",
        "init_session(use_unicode=True)  # must use this for nice printing!!\n",
        "# x, y, z, t (symbols);  k, m, n (integers);  f, g, h (functions)"
      ],
      "metadata": {
        "id": "YnxhvrTlRY6F",
        "outputId": "587cbc2a-d4e9-433f-accb-dc74e41b5165",
        "colab": {
          "base_uri": "https://localhost:8080/"
        }
      },
      "execution_count": null,
      "outputs": [
        {
          "output_type": "stream",
          "name": "stdout",
          "text": [
            "IPython console for SymPy 1.12 (Python 3.10.12-64-bit) (ground types: python)\n",
            "\n",
            "These commands were executed:\n",
            ">>> from sympy import *\n",
            ">>> x, y, z, t = symbols('x y z t')\n",
            ">>> k, m, n = symbols('k m n', integer=True)\n",
            ">>> f, g, h = symbols('f g h', cls=Function)\n",
            ">>> init_printing()\n",
            "\n",
            "Documentation can be found at https://docs.sympy.org/1.12/\n",
            "\n"
          ]
        }
      ]
    },
    {
      "cell_type": "code",
      "source": [
        "x, y, z = symbols('x y z')\n",
        "expr = x + 2*y + sympy.sqrt(3)*z**2\n",
        "expr"
      ],
      "metadata": {
        "id": "lcZyvG3HqOvm"
      },
      "execution_count": null,
      "outputs": []
    },
    {
      "cell_type": "code",
      "source": [
        "expr = expr*expr\n",
        "expand(expr)"
      ],
      "metadata": {
        "id": "XGCpzlccUHFj",
        "outputId": "ffd574fc-fc7f-41fa-a503-ce67bb1bceb3",
        "colab": {
          "base_uri": "https://localhost:8080/",
          "height": 40
        }
      },
      "execution_count": null,
      "outputs": [
        {
          "output_type": "execute_result",
          "data": {
            "text/plain": [
              " 2                   2      2           2      4\n",
              "x  + 4⋅x⋅y + 2⋅√3⋅x⋅z  + 4⋅y  + 4⋅√3⋅y⋅z  + 3⋅z "
            ],
            "text/latex": "$\\displaystyle x^{2} + 4 x y + 2 \\sqrt{3} x z^{2} + 4 y^{2} + 4 \\sqrt{3} y z^{2} + 3 z^{4}$"
          },
          "metadata": {},
          "execution_count": 16
        }
      ]
    },
    {
      "cell_type": "code",
      "source": [
        "factor(expr)"
      ],
      "metadata": {
        "id": "JRuJz5m0Uiih",
        "outputId": "5e77dc67-594b-4caa-843c-c7a125ba8075",
        "colab": {
          "base_uri": "https://localhost:8080/",
          "height": 51
        }
      },
      "execution_count": null,
      "outputs": [
        {
          "output_type": "execute_result",
          "data": {
            "text/plain": [
              "                 2\n",
              "⎛              2⎞ \n",
              "⎝x + 2⋅y + √3⋅z ⎠ "
            ],
            "text/latex": "$\\displaystyle \\left(x + 2 y + \\sqrt{3} z^{2}\\right)^{2}$"
          },
          "metadata": {},
          "execution_count": 17
        }
      ]
    },
    {
      "cell_type": "markdown",
      "source": [
        "Performing differentiation:"
      ],
      "metadata": {
        "id": "nvanTN9NT0wv"
      }
    },
    {
      "cell_type": "code",
      "source": [
        "deq = diff(sin(x)*exp(x), x)\n",
        "deq.subs(x, 1)"
      ],
      "metadata": {
        "id": "d94MMX7HRZ2c",
        "outputId": "4c2309ff-435b-465c-abc1-e9e9b6a295d8",
        "colab": {
          "base_uri": "https://localhost:8080/",
          "height": 38
        }
      },
      "execution_count": null,
      "outputs": [
        {
          "output_type": "execute_result",
          "data": {
            "text/plain": [
              "ℯ⋅cos(1) + ℯ⋅sin(1)"
            ],
            "text/latex": "$\\displaystyle e \\cos{\\left(1 \\right)} + e \\sin{\\left(1 \\right)}$"
          },
          "metadata": {},
          "execution_count": 36
        }
      ]
    },
    {
      "cell_type": "code",
      "source": [
        "deq.subs(x, 1).evalf()"
      ],
      "metadata": {
        "colab": {
          "base_uri": "https://localhost:8080/",
          "height": 37
        },
        "id": "J1FbPPqqmqgx",
        "outputId": "3fb2dd7f-ccbf-4f59-edb6-fbc7735204c6"
      },
      "execution_count": null,
      "outputs": [
        {
          "output_type": "execute_result",
          "data": {
            "text/plain": [
              "3.75604922709473"
            ],
            "text/latex": "$\\displaystyle 3.75604922709473$"
          },
          "metadata": {},
          "execution_count": 37
        }
      ]
    },
    {
      "cell_type": "markdown",
      "source": [
        "Evaluation of derivatives:"
      ],
      "metadata": {
        "id": "JvBtJW0wU6lh"
      }
    },
    {
      "cell_type": "code",
      "source": [
        "expr = cos(x) + sin(y) + exp(z)\n",
        "values = {x: 0, y: pi/2, z: 1}\n",
        "expr.subs(values).evalf()"
      ],
      "metadata": {
        "id": "BT0-zPTXU-L6",
        "colab": {
          "base_uri": "https://localhost:8080/",
          "height": 37
        },
        "outputId": "cb02aa34-0271-4fef-b63c-39fa19e8769e"
      },
      "execution_count": null,
      "outputs": [
        {
          "output_type": "execute_result",
          "data": {
            "text/plain": [
              "4.71828182845905"
            ],
            "text/latex": "$\\displaystyle 4.71828182845905$"
          },
          "metadata": {},
          "execution_count": 38
        }
      ]
    },
    {
      "cell_type": "code",
      "source": [
        "pi.evalf(1000)"
      ],
      "metadata": {
        "colab": {
          "base_uri": "https://localhost:8080/",
          "height": 57
        },
        "id": "eD7TDTNym190",
        "outputId": "9f75985f-d7be-4523-84c7-e16f5450c706"
      },
      "execution_count": null,
      "outputs": [
        {
          "output_type": "execute_result",
          "data": {
            "text/plain": [
              "3.1415926535897932384626433832795028841971693993751058209749445923078164062862\n",
              "089986280348253421170679821480865132823066470938446095505822317253594081284811\n",
              "174502841027019385211055596446229489549303819644288109756659334461284756482337\n",
              "867831652712019091456485669234603486104543266482133936072602491412737245870066\n",
              "063155881748815209209628292540917153643678925903600113305305488204665213841469\n",
              "519415116094330572703657595919530921861173819326117931051185480744623799627495\n",
              "673518857527248912279381830119491298336733624406566430860213949463952247371907\n",
              "021798609437027705392171762931767523846748184676694051320005681271452635608277\n",
              "857713427577896091736371787214684409012249534301465495853710507922796892589235\n",
              "420199561121290219608640344181598136297747713099605187072113499999983729780499\n",
              "510597317328160963185950244594553469083026425223082533446850352619311881710100\n",
              "031378387528865875332083814206171776691473035982534904287554687311595628638823\n",
              "53787593751957781857780532171226806613001927876611195909216420199"
            ],
            "text/latex": "$\\displaystyle 3.141592653589793238462643383279502884197169399375105820974944592307816406286208998628034825342117067982148086513282306647093844609550582231725359408128481117450284102701938521105559644622948954930381964428810975665933446128475648233786783165271201909145648566923460348610454326648213393607260249141273724587006606315588174881520920962829254091715364367892590360011330530548820466521384146951941511609433057270365759591953092186117381932611793105118548074462379962749567351885752724891227938183011949129833673362440656643086021394946395224737190702179860943702770539217176293176752384674818467669405132000568127145263560827785771342757789609173637178721468440901224953430146549585371050792279689258923542019956112129021960864034418159813629774771309960518707211349999998372978049951059731732816096318595024459455346908302642522308253344685035261931188171010003137838752886587533208381420617177669147303598253490428755468731159562863882353787593751957781857780532171226806613001927876611195909216420199$"
          },
          "metadata": {},
          "execution_count": 41
        }
      ]
    },
    {
      "cell_type": "markdown",
      "source": [
        "Integration:"
      ],
      "metadata": {
        "id": "I7doxDzKU-3-"
      }
    },
    {
      "cell_type": "code",
      "source": [
        "integrate(exp(x)*(sin(x) + cos(x)))"
      ],
      "metadata": {
        "id": "4r6iho1hU_cF",
        "outputId": "d2e65615-c8b7-44a8-b0b7-ff5e149bcfcf",
        "colab": {
          "base_uri": "https://localhost:8080/",
          "height": 38
        }
      },
      "execution_count": null,
      "outputs": [
        {
          "output_type": "execute_result",
          "data": {
            "text/plain": [
              " x       \n",
              "ℯ ⋅sin(x)"
            ],
            "text/latex": "$\\displaystyle e^{x} \\sin{\\left(x \\right)}$"
          },
          "metadata": {},
          "execution_count": 19
        }
      ]
    },
    {
      "cell_type": "markdown",
      "source": [
        "Evaluation of integration:"
      ],
      "metadata": {
        "id": "Rww-ansUVNJC"
      }
    },
    {
      "cell_type": "code",
      "source": [
        "integrate(sin(x**2), (x, -oo, oo))"
      ],
      "metadata": {
        "id": "uMRN6Zv4VS7D",
        "outputId": "2c59cdf5-2ef5-4656-830e-448dd0706938",
        "colab": {
          "base_uri": "https://localhost:8080/",
          "height": 56
        }
      },
      "execution_count": null,
      "outputs": [
        {
          "output_type": "execute_result",
          "data": {
            "text/plain": [
              "√2⋅√π\n",
              "─────\n",
              "  2  "
            ],
            "text/latex": "$\\displaystyle \\frac{\\sqrt{2} \\sqrt{\\pi}}{2}$"
          },
          "metadata": {},
          "execution_count": 20
        }
      ]
    },
    {
      "cell_type": "markdown",
      "source": [
        "Find limits:"
      ],
      "metadata": {
        "id": "bTsJTfQGVb64"
      }
    },
    {
      "cell_type": "code",
      "source": [
        "limit(sin(x)/x, x, 0)"
      ],
      "metadata": {
        "id": "yj5DIyL-Vd9G",
        "outputId": "8e84a9db-660d-4596-fc3f-7f0e4d387545",
        "colab": {
          "base_uri": "https://localhost:8080/",
          "height": 37
        }
      },
      "execution_count": null,
      "outputs": [
        {
          "output_type": "execute_result",
          "data": {
            "text/plain": [
              "1"
            ],
            "text/latex": "$\\displaystyle 1$"
          },
          "metadata": {},
          "execution_count": 21
        }
      ]
    },
    {
      "cell_type": "markdown",
      "source": [
        "Solve differential equations:"
      ],
      "metadata": {
        "id": "JY9rxnkqVjju"
      }
    },
    {
      "cell_type": "code",
      "source": [
        "t = symbols('t')\n",
        "y = Function('y')\n",
        "dsolve(Eq(y(t).diff(t, t) - y(t), exp(t)), y(t))"
      ],
      "metadata": {
        "id": "IxLv8xiGVoJt",
        "outputId": "86ad3a4a-1f1a-4db3-f982-a3bd964dce34",
        "colab": {
          "base_uri": "https://localhost:8080/",
          "height": 58
        }
      },
      "execution_count": null,
      "outputs": [
        {
          "output_type": "execute_result",
          "data": {
            "text/plain": [
              "           -t   ⎛     t⎞  t\n",
              "y(t) = C₂⋅ℯ   + ⎜C₁ + ─⎟⋅ℯ \n",
              "                ⎝     2⎠   "
            ],
            "text/latex": "$\\displaystyle y{\\left(t \\right)} = C_{2} e^{- t} + \\left(C_{1} + \\frac{t}{2}\\right) e^{t}$"
          },
          "metadata": {},
          "execution_count": 23
        }
      ]
    },
    {
      "cell_type": "markdown",
      "source": [
        "Function `sympify` creates a symbolic math expression."
      ],
      "metadata": {
        "id": "TkDYUQnjl8ks"
      }
    },
    {
      "cell_type": "code",
      "source": [
        "sympify('x**2 + 2*x + 3').subs([(x, 2)])"
      ],
      "metadata": {
        "colab": {
          "base_uri": "https://localhost:8080/",
          "height": 37
        },
        "id": "LRoQBccimDVQ",
        "outputId": "48a2c1a3-522d-4e9b-bcb4-968f7e478b2e"
      },
      "execution_count": null,
      "outputs": [
        {
          "output_type": "execute_result",
          "data": {
            "text/plain": [
              "11"
            ],
            "text/latex": "$\\displaystyle 11$"
          },
          "metadata": {},
          "execution_count": 30
        }
      ]
    },
    {
      "cell_type": "markdown",
      "source": [
        "Miscellaneous code:"
      ],
      "metadata": {
        "id": "7HBHx_7CWCKq"
      }
    },
    {
      "cell_type": "code",
      "source": [
        "init_session()   # imports all from sympy,\n",
        "# xyzt = symbol variables, kmn = integers, fgh = functions"
      ],
      "metadata": {
        "colab": {
          "base_uri": "https://localhost:8080/"
        },
        "id": "2o7o9Rk6pru6",
        "outputId": "292cf833-93d8-4a3f-81ed-9d7dc16f7dd1"
      },
      "execution_count": null,
      "outputs": [
        {
          "output_type": "stream",
          "name": "stdout",
          "text": [
            "IPython console for SymPy 1.12 (Python 3.10.12-64-bit) (ground types: python)\n",
            "\n",
            "These commands were executed:\n",
            ">>> from sympy import *\n",
            ">>> x, y, z, t = symbols('x y z t')\n",
            ">>> k, m, n = symbols('k m n', integer=True)\n",
            ">>> f, g, h = symbols('f g h', cls=Function)\n",
            ">>> init_printing()\n",
            "\n",
            "Documentation can be found at https://docs.sympy.org/1.12/\n",
            "\n"
          ]
        }
      ]
    },
    {
      "cell_type": "code",
      "source": [
        "Matrix([[1, 2], [2, 2]]).eigenvals()"
      ],
      "metadata": {
        "colab": {
          "base_uri": "https://localhost:8080/",
          "height": 68
        },
        "id": "f_UbAFsyWmTK",
        "outputId": "b00a461b-d353-40b9-dd5a-3d87b0f29e5c"
      },
      "execution_count": null,
      "outputs": [
        {
          "output_type": "execute_result",
          "data": {
            "text/plain": [
              "⎧3   √17     3   √17   ⎫\n",
              "⎨─ - ───: 1, ─ + ───: 1⎬\n",
              "⎩2    2      2    2    ⎭"
            ],
            "text/latex": "$\\displaystyle \\left\\{ \\frac{3}{2} - \\frac{\\sqrt{17}}{2} : 1, \\  \\frac{3}{2} + \\frac{\\sqrt{17}}{2} : 1\\right\\}$"
          },
          "metadata": {},
          "execution_count": 2
        }
      ]
    },
    {
      "cell_type": "code",
      "source": [
        "latex(Integral(cos(x)**2, (x, 0, pi)))"
      ],
      "metadata": {
        "colab": {
          "base_uri": "https://localhost:8080/",
          "height": 35
        },
        "id": "0yAa-srXWw5s",
        "outputId": "d9d81a59-8bdf-4e6d-b873-5e31d757d980"
      },
      "execution_count": null,
      "outputs": [
        {
          "output_type": "execute_result",
          "data": {
            "text/plain": [
              "'\\\\int\\\\limits_{0}^{\\\\pi} \\\\cos^{2}{\\\\left(x \\\\right)}\\\\, dx'"
            ],
            "application/vnd.google.colaboratory.intrinsic+json": {
              "type": "string"
            }
          },
          "metadata": {},
          "execution_count": 3
        }
      ]
    },
    {
      "cell_type": "code",
      "source": [
        "expr = x + 1\n",
        "expr.subs(x, z)"
      ],
      "metadata": {
        "colab": {
          "base_uri": "https://localhost:8080/",
          "height": 38
        },
        "id": "nt-eTL-oXVt_",
        "outputId": "a7d43d52-bfdc-46b9-e6fa-3c7bd42d7342"
      },
      "execution_count": null,
      "outputs": [
        {
          "output_type": "execute_result",
          "data": {
            "text/plain": [
              "z + 1"
            ],
            "text/latex": "$\\displaystyle z + 1$"
          },
          "metadata": {},
          "execution_count": 4
        }
      ]
    },
    {
      "cell_type": "code",
      "source": [
        "expr.subs(x, 1)"
      ],
      "metadata": {
        "colab": {
          "base_uri": "https://localhost:8080/",
          "height": 37
        },
        "id": "-0tXqT-jXdWy",
        "outputId": "2213f04a-5de3-4e50-8dbc-7086c13370bb"
      },
      "execution_count": null,
      "outputs": [
        {
          "output_type": "execute_result",
          "data": {
            "text/plain": [
              "2"
            ],
            "text/latex": "$\\displaystyle 2$"
          },
          "metadata": {},
          "execution_count": 5
        }
      ]
    },
    {
      "cell_type": "code",
      "source": [
        "expr = x + 1   # x is a symbol\n",
        "x = 2\n",
        "expr    # expr still uses x as a symbol"
      ],
      "metadata": {
        "colab": {
          "base_uri": "https://localhost:8080/",
          "height": 38
        },
        "id": "mgDOP5QYXhUJ",
        "outputId": "f6c26d4f-4211-42cf-e5d4-81bc1cf541dd"
      },
      "execution_count": null,
      "outputs": [
        {
          "output_type": "execute_result",
          "data": {
            "text/plain": [
              "x + 1"
            ],
            "text/latex": "$\\displaystyle x + 1$"
          },
          "metadata": {},
          "execution_count": 6
        }
      ]
    },
    {
      "cell_type": "code",
      "source": [
        "expr.subs(x, x)   # x still a symbol in this replacement"
      ],
      "metadata": {
        "colab": {
          "base_uri": "https://localhost:8080/",
          "height": 38
        },
        "id": "WMk-5RcZXr1a",
        "outputId": "f12aff9f-ef7d-4137-b7d9-5398714225b8"
      },
      "execution_count": null,
      "outputs": [
        {
          "output_type": "execute_result",
          "data": {
            "text/plain": [
              "x + 1"
            ],
            "text/latex": "$\\displaystyle x + 1$"
          },
          "metadata": {},
          "execution_count": 7
        }
      ]
    },
    {
      "cell_type": "code",
      "source": [
        "expr == x + 1"
      ],
      "metadata": {
        "colab": {
          "base_uri": "https://localhost:8080/"
        },
        "id": "pTcik05BX6JW",
        "outputId": "e47296ea-79e2-4dad-809b-3f57827969c3"
      },
      "execution_count": null,
      "outputs": [
        {
          "output_type": "execute_result",
          "data": {
            "text/plain": [
              "False"
            ]
          },
          "metadata": {},
          "execution_count": 10
        }
      ]
    },
    {
      "cell_type": "code",
      "source": [
        "x = symbols('x')\n",
        "expr = x + 1\n",
        "expr == x + 1"
      ],
      "metadata": {
        "colab": {
          "base_uri": "https://localhost:8080/"
        },
        "id": "sCRc6w47YQei",
        "outputId": "da5d6d0a-0b09-42f1-a236-0359245ac50f"
      },
      "execution_count": null,
      "outputs": [
        {
          "output_type": "execute_result",
          "data": {
            "text/plain": [
              "True"
            ]
          },
          "metadata": {},
          "execution_count": 11
        }
      ]
    },
    {
      "cell_type": "code",
      "source": [
        "Eq(x + 1, 4)    # create a symbolic equality"
      ],
      "metadata": {
        "colab": {
          "base_uri": "https://localhost:8080/",
          "height": 38
        },
        "id": "q9zFqwdGYYHS",
        "outputId": "44a35310-8b33-40cb-fd62-f5facbfde247"
      },
      "execution_count": null,
      "outputs": [
        {
          "output_type": "execute_result",
          "data": {
            "text/plain": [
              "x + 1 = 4"
            ],
            "text/latex": "$\\displaystyle x + 1 = 4$"
          },
          "metadata": {},
          "execution_count": 12
        }
      ]
    },
    {
      "cell_type": "code",
      "source": [
        "(x+1)**2 == x**2 + 2*x + 1    # apparently it's not possible to test equality like this"
      ],
      "metadata": {
        "colab": {
          "base_uri": "https://localhost:8080/"
        },
        "id": "oY3056szYa9F",
        "outputId": "5ec7ba05-856c-4a66-d1bb-bc3965343e66"
      },
      "execution_count": null,
      "outputs": [
        {
          "output_type": "execute_result",
          "data": {
            "text/plain": [
              "False"
            ]
          },
          "metadata": {},
          "execution_count": 13
        }
      ]
    },
    {
      "cell_type": "code",
      "source": [
        "simplify(x**2 + 2*x + 1)"
      ],
      "metadata": {
        "colab": {
          "base_uri": "https://localhost:8080/",
          "height": 38
        },
        "id": "_gpmjDKLYx1q",
        "outputId": "4cce1993-22e3-4ed0-c37a-ac7519df9f19"
      },
      "execution_count": null,
      "outputs": [
        {
          "output_type": "execute_result",
          "data": {
            "text/plain": [
              " 2          \n",
              "x  + 2⋅x + 1"
            ],
            "text/latex": "$\\displaystyle x^{2} + 2 x + 1$"
          },
          "metadata": {},
          "execution_count": 15
        }
      ]
    },
    {
      "cell_type": "code",
      "source": [
        "factor(x**2 + 2*x + 1)"
      ],
      "metadata": {
        "colab": {
          "base_uri": "https://localhost:8080/",
          "height": 39
        },
        "id": "prIYufWDY7eF",
        "outputId": "f1438c3f-9c54-4674-a33e-d8610a3498d4"
      },
      "execution_count": null,
      "outputs": [
        {
          "output_type": "execute_result",
          "data": {
            "text/plain": [
              "       2\n",
              "(x + 1) "
            ],
            "text/latex": "$\\displaystyle \\left(x + 1\\right)^{2}$"
          },
          "metadata": {},
          "execution_count": 16
        }
      ]
    },
    {
      "cell_type": "code",
      "source": [
        "(x+1)**2 == factor(x**2 + 2*x + 1)"
      ],
      "metadata": {
        "colab": {
          "base_uri": "https://localhost:8080/"
        },
        "id": "mt354b6XZAIS",
        "outputId": "cc2d19d3-159d-45ab-9e7d-d0b9bafa4719"
      },
      "execution_count": null,
      "outputs": [
        {
          "output_type": "execute_result",
          "data": {
            "text/plain": [
              "True"
            ]
          },
          "metadata": {},
          "execution_count": 17
        }
      ]
    },
    {
      "cell_type": "code",
      "source": [
        "a = (x+1)**2\n",
        "a.equals(x**2 + 2*x + 1)   # will test at random points throughout variables"
      ],
      "metadata": {
        "colab": {
          "base_uri": "https://localhost:8080/"
        },
        "id": "jx2h_1LCZHQ1",
        "outputId": "05879c77-7c32-4e3d-98e2-55ea41c9ef94"
      },
      "execution_count": null,
      "outputs": [
        {
          "output_type": "execute_result",
          "data": {
            "text/plain": [
              "True"
            ]
          },
          "metadata": {},
          "execution_count": 18
        }
      ]
    },
    {
      "cell_type": "code",
      "source": [
        "((x+1)**2).equals(x**2 + 2*x + 1)"
      ],
      "metadata": {
        "colab": {
          "base_uri": "https://localhost:8080/"
        },
        "id": "0CQdATWkZUkr",
        "outputId": "d3dc7dd9-ef0a-4ef7-8ac6-9cb05f347f28"
      },
      "execution_count": null,
      "outputs": [
        {
          "output_type": "execute_result",
          "data": {
            "text/plain": [
              "True"
            ]
          },
          "metadata": {},
          "execution_count": 19
        }
      ]
    }
  ],
  "metadata": {
    "colab": {
      "toc_visible": true,
      "provenance": [],
      "include_colab_link": true
    },
    "kernelspec": {
      "display_name": "Python 3",
      "name": "python3"
    }
  },
  "nbformat": 4,
  "nbformat_minor": 0
}