{
  "nbformat": 4,
  "nbformat_minor": 0,
  "metadata": {
    "colab": {
      "provenance": [],
      "mount_file_id": "1cOoLMKKuL7TQwixsvtsAllAsaRXNnu1n",
      "authorship_tag": "ABX9TyMGLUaR19zvBiA+DV01hf4u",
      "include_colab_link": true
    },
    "kernelspec": {
      "name": "python3",
      "display_name": "Python 3"
    },
    "language_info": {
      "name": "python"
    }
  },
  "cells": [
    {
      "cell_type": "markdown",
      "metadata": {
        "id": "view-in-github",
        "colab_type": "text"
      },
      "source": [
        "<a href=\"https://colab.research.google.com/github/clanker/mastering-circuits/blob/main/nilsson6.ipynb\" target=\"_parent\"><img src=\"https://colab.research.google.com/assets/colab-badge.svg\" alt=\"Open In Colab\"/></a>"
      ]
    },
    {
      "cell_type": "code",
      "execution_count": null,
      "metadata": {
        "colab": {
          "base_uri": "https://localhost:8080/",
          "height": 447
        },
        "id": "n_Rl1_dxxa5v",
        "outputId": "b01253cf-ac29-4b7f-d759-9af5fe87aa13"
      },
      "outputs": [
        {
          "output_type": "execute_result",
          "data": {
            "text/plain": [
              "[<matplotlib.lines.Line2D at 0x7d74f174e350>]"
            ]
          },
          "metadata": {},
          "execution_count": 11
        },
        {
          "output_type": "display_data",
          "data": {
            "text/plain": [
              "<Figure size 640x480 with 1 Axes>"
            ],
            "image/png": "[encoded data removed]"
          },
          "metadata": {}
        }
      ],
      "source": [
        "import numpy as np\n",
        "import matplotlib.pyplot as plt\n",
        "t = np.linspace(0, 6, 6001)\n",
        "v = []\n",
        "v.extend(np.linspace(0, -1, 1001))\n",
        "v.extend(np.linspace(-0.999, 1, 2000))\n",
        "v.extend(np.repeat(1, 1999))\n",
        "v.extend(np.linspace(1, 0, 1001))\n",
        "plt.plot(t, v)\n",
        "plt.plot(t, np.cumsum(v)/1000)"
      ]
    },
    {
      "cell_type": "code",
      "source": [
        "import sympy\n",
        "sympy.init_session()\n",
        "y = Function('y')\n",
        "dsolve(Eq(y(t).diff(t) - 62.5*y(t), 5000), y(t))"
      ],
      "metadata": {
        "colab": {
          "base_uri": "https://localhost:8080/",
          "height": 225
        },
        "id": "-xnCcXseoxOi",
        "outputId": "f16d4289-81dd-4976-f7f2-d810a6e5430d"
      },
      "execution_count": 8,
      "outputs": [
        {
          "output_type": "stream",
          "name": "stdout",
          "text": [
            "IPython console for SymPy 1.12 (Python 3.10.12-64-bit) (ground types: python)\n",
            "\n",
            "These commands were executed:\n",
            ">>> from sympy import *\n",
            ">>> x, y, z, t = symbols('x y z t')\n",
            ">>> k, m, n = symbols('k m n', integer=True)\n",
            ">>> f, g, h = symbols('f g h', cls=Function)\n",
            ">>> init_printing()\n",
            "\n",
            "Documentation can be found at https://docs.sympy.org/1.12/\n",
            "\n"
          ]
        },
        {
          "output_type": "execute_result",
          "data": {
            "text/plain": [
              "           62.5⋅t       \n",
              "y(t) = C₁⋅ℯ       - 80.0"
            ],
            "text/latex": "$\\displaystyle y{\\left(t \\right)} = C_{1} e^{62.5 t} - 80.0$"
          },
          "metadata": {},
          "execution_count": 8
        }
      ]
    },
    {
      "cell_type": "code",
      "source": [
        "import sympy\n",
        "sympy.init_session()"
      ],
      "metadata": {
        "colab": {
          "base_uri": "https://localhost:8080/"
        },
        "id": "Uy3LO-x8aYw5",
        "outputId": "2802adc5-6f4e-4988-b1cc-8fcad87854e8"
      },
      "execution_count": null,
      "outputs": [
        {
          "output_type": "stream",
          "name": "stdout",
          "text": [
            "IPython console for SymPy 1.12 (Python 3.10.12-64-bit) (ground types: python)\n",
            "\n",
            "These commands were executed:\n",
            ">>> from sympy import *\n",
            ">>> x, y, z, t = symbols('x y z t')\n",
            ">>> k, m, n = symbols('k m n', integer=True)\n",
            ">>> f, g, h = symbols('f g h', cls=Function)\n",
            ">>> init_printing()\n",
            "\n",
            "Documentation can be found at https://docs.sympy.org/1.12/\n",
            "\n"
          ]
        }
      ]
    },
    {
      "cell_type": "code",
      "source": [
        "#linsolve([-200*x-800*y-28, x+y-0.04], (x,y))\n",
        "linsolve([-200*x-800*y+68, x+y-0.04], (x,y))"
      ],
      "metadata": {
        "colab": {
          "base_uri": "https://localhost:8080/",
          "height": 37
        },
        "id": "WMlfHoLdagJp",
        "outputId": "9eaba289-144b-416a-9793-c445b89a3bf6"
      },
      "execution_count": null,
      "outputs": [
        {
          "output_type": "execute_result",
          "data": {
            "text/plain": [
              "{(-0.06, 0.1)}"
            ],
            "text/latex": "$\\displaystyle \\left\\{\\left( -0.06, \\  0.1\\right)\\right\\}$"
          },
          "metadata": {},
          "execution_count": 14
        }
      ]
    },
    {
      "cell_type": "code",
      "source": [
        "i = 0.1*exp(-10000*t)-0.06*exp(-40000*t)\n",
        "v = simplify(0.02 * diff(i,t))\n",
        "p = simplify(v*i)"
      ],
      "metadata": {
        "id": "QEvIQwhGbauH"
      },
      "execution_count": null,
      "outputs": []
    },
    {
      "cell_type": "code",
      "source": [
        "from sympy.solvers.solveset import solveset_real\n",
        "nt = symbols('nt')\n",
        "solveset_real(p.subs(t, nt/10000), nt)"
      ],
      "metadata": {
        "colab": {
          "base_uri": "https://localhost:8080/",
          "height": 37
        },
        "id": "lXsY3xv6bw79",
        "outputId": "c3249f04-729e-423a-d196-3002338a6c23"
      },
      "execution_count": null,
      "outputs": [
        {
          "output_type": "execute_result",
          "data": {
            "text/plain": [
              "{-0.170275207921997, 0.2918229124513}"
            ],
            "text/latex": "$\\displaystyle \\left\\{-0.170275207921997, 0.2918229124513\\right\\}$"
          },
          "metadata": {},
          "execution_count": 10
        }
      ]
    },
    {
      "cell_type": "code",
      "source": [
        "p"
      ],
      "metadata": {
        "colab": {
          "base_uri": "https://localhost:8080/",
          "height": 38
        },
        "id": "CfERgf_LcCUb",
        "outputId": "244b3d92-afb1-4417-de48-0b6e864c368a"
      },
      "execution_count": null,
      "outputs": [
        {
          "output_type": "execute_result",
          "data": {
            "text/plain": [
              "    ⎛       60000⋅t        30000⋅t       ⎞  -80000⋅t\n",
              "1.0⋅⎝- 2.0⋅ℯ        + 6.0⋅ℯ        - 2.88⎠⋅ℯ        "
            ],
            "text/latex": "$\\displaystyle 1.0 \\left(- 2.0 e^{60000 t} + 6.0 e^{30000 t} - 2.88\\right) e^{- 80000 t}$"
          },
          "metadata": {},
          "execution_count": 11
        }
      ]
    },
    {
      "cell_type": "code",
      "source": [
        "plot(i, v/100, p, (t, 0, 1e-4)).save('temp5.png')"
      ],
      "metadata": {
        "id": "1n4pFX0ocuKB"
      },
      "execution_count": null,
      "outputs": []
    },
    {
      "cell_type": "code",
      "source": [
        "i = -0.06*exp(-10000*t)+0.1*exp(-40000*t)\n",
        "v = simplify(0.02 * diff(i,t))\n",
        "p = simplify(v*i)\n",
        "p"
      ],
      "metadata": {
        "colab": {
          "base_uri": "https://localhost:8080/",
          "height": 38
        },
        "id": "i9kJbf0Dd6Ap",
        "outputId": "e1816ef2-20de-4791-ca65-26f0ca23c0c1"
      },
      "execution_count": null,
      "outputs": [
        {
          "output_type": "execute_result",
          "data": {
            "text/plain": [
              "    ⎛        60000⋅t        30000⋅t      ⎞  -80000⋅t\n",
              "1.0⋅⎝- 0.72⋅ℯ        + 6.0⋅ℯ        - 8.0⎠⋅ℯ        "
            ],
            "text/latex": "$\\displaystyle 1.0 \\left(- 0.72 e^{60000 t} + 6.0 e^{30000 t} - 8.0\\right) e^{- 80000 t}$"
          },
          "metadata": {},
          "execution_count": 23
        }
      ]
    },
    {
      "cell_type": "code",
      "source": [
        "plot(i*10, v/100, p, (t, 0, 3e-4)).save('temp6.png')"
      ],
      "metadata": {
        "id": "VtPBesTteLI1"
      },
      "execution_count": null,
      "outputs": []
    },
    {
      "cell_type": "code",
      "source": [
        "w = Integral(p, t).doit()\n",
        "simplify(w)"
      ],
      "metadata": {
        "colab": {
          "base_uri": "https://localhost:8080/",
          "height": 38
        },
        "id": "lC_Z4he-eocj",
        "outputId": "a7a81863-f2c4-4b07-e385-85b1250a39a9"
      },
      "execution_count": null,
      "outputs": [
        {
          "output_type": "execute_result",
          "data": {
            "text/plain": [
              "⎛        60000⋅t            30000⋅t         ⎞  -80000⋅t\n",
              "⎝3.6e-5⋅ℯ        - 0.00012⋅ℯ        + 0.0001⎠⋅ℯ        "
            ],
            "text/latex": "$\\displaystyle \\left(3.6 \\cdot 10^{-5} e^{60000 t} - 0.00012 e^{30000 t} + 0.0001\\right) e^{- 80000 t}$"
          },
          "metadata": {},
          "execution_count": 25
        }
      ]
    },
    {
      "cell_type": "code",
      "source": [
        "plot(w, (t, 0, 3e-4)).save('temp7.png')"
      ],
      "metadata": {
        "id": "Sz6sLbsUe8p1"
      },
      "execution_count": null,
      "outputs": []
    },
    {
      "cell_type": "code",
      "source": [
        "i = -(10*cos(400*t)-5*sin(400*t))*exp(-200*t)\n",
        "v = simplify(diff(i, t))\n",
        "v"
      ],
      "metadata": {
        "colab": {
          "base_uri": "https://localhost:8080/",
          "height": 38
        },
        "id": "z0Icxoyfw_NI",
        "outputId": "8cd1ce24-7617-4962-8d36-a64b8d0ce174"
      },
      "execution_count": null,
      "outputs": [
        {
          "output_type": "execute_result",
          "data": {
            "text/plain": [
              "                                    -200⋅t\n",
              "1000⋅(3⋅sin(400⋅t) + 4⋅cos(400⋅t))⋅ℯ      "
            ],
            "text/latex": "$\\displaystyle 1000 \\cdot \\left(3 \\sin{\\left(400 t \\right)} + 4 \\cos{\\left(400 t \\right)}\\right) e^{- 200 t}$"
          },
          "metadata": {},
          "execution_count": 27
        }
      ]
    },
    {
      "cell_type": "code",
      "source": [
        "plot(i, v, (t, 0, 0.002)).save('temp8.png')"
      ],
      "metadata": {
        "id": "8hrJRjThxrpK"
      },
      "execution_count": null,
      "outputs": []
    },
    {
      "cell_type": "code",
      "source": [
        "solveset_real(diff(v,t), t).evalf()"
      ],
      "metadata": {
        "colab": {
          "base_uri": "https://localhost:8080/",
          "height": 59
        },
        "id": "GmAqeg_wyDlD",
        "outputId": "0846dc19-ede1-4968-a34a-80e5ae9264b3"
      },
      "execution_count": null,
      "outputs": [
        {
          "output_type": "execute_result",
          "data": {
            "text/plain": [
              "{0.015707963267949⋅n + 0.00830361538345568 │ n ∊ ℤ} ∪ {0.015707963267949⋅n + 0\n",
              ".000449633749481196 │ n ∊ ℤ}"
            ],
            "text/latex": "$\\displaystyle \\left\\{0.015707963267949 n + 0.00830361538345568\\; \\middle|\\; n \\in \\mathbb{Z}\\right\\} \\cup \\left\\{0.015707963267949 n + 0.000449633749481196\\; \\middle|\\; n \\in \\mathbb{Z}\\right\\}$"
          },
          "metadata": {},
          "execution_count": 31
        }
      ]
    },
    {
      "cell_type": "code",
      "source": [
        "v.subs(t, 0.000449633749481196)"
      ],
      "metadata": {
        "colab": {
          "base_uri": "https://localhost:8080/",
          "height": 37
        },
        "id": "oBzb6E5Myhhl",
        "outputId": "8d378192-a5bf-448d-8e7d-ff6b92298e66"
      },
      "execution_count": null,
      "outputs": [
        {
          "output_type": "execute_result",
          "data": {
            "text/plain": [
              "4087.52391463202"
            ],
            "text/latex": "$\\displaystyle 4087.52391463202$"
          },
          "metadata": {},
          "execution_count": 32
        }
      ]
    },
    {
      "cell_type": "code",
      "source": [
        "v = -50*sin(250*t)\n",
        "i_o = (1/0.02)*Integral(v, t).doit()\n",
        "i = 10 + i_o - i_o.subs(t, 0)\n",
        "simplify(i)"
      ],
      "metadata": {
        "colab": {
          "base_uri": "https://localhost:8080/",
          "height": 38
        },
        "id": "uaGt2uC10k5b",
        "outputId": "2865cfeb-e4e0-4e2f-d74e-de88d28293d7"
      },
      "execution_count": null,
      "outputs": [
        {
          "output_type": "execute_result",
          "data": {
            "text/plain": [
              "10.0⋅cos(250⋅t)"
            ],
            "text/latex": "$\\displaystyle 10.0 \\cos{\\left(250 t \\right)}$"
          },
          "metadata": {},
          "execution_count": 35
        }
      ]
    },
    {
      "cell_type": "code",
      "source": [
        "i_o"
      ],
      "metadata": {
        "colab": {
          "base_uri": "https://localhost:8080/",
          "height": 38
        },
        "id": "0vE3QMfw0nyM",
        "outputId": "d0ba2519-0fa9-441a-c051-bdc62d87b1e1"
      },
      "execution_count": null,
      "outputs": [
        {
          "output_type": "execute_result",
          "data": {
            "text/plain": [
              "10.0⋅cos(250⋅t)"
            ],
            "text/latex": "$\\displaystyle 10.0 \\cos{\\left(250 t \\right)}$"
          },
          "metadata": {},
          "execution_count": 36
        }
      ]
    },
    {
      "cell_type": "code",
      "source": [
        "p = v*i\n",
        "w_o = Integral(p, t).doit()\n",
        "w = (0.02)/2*i.subs(t, 0)**2 + w_o - w_o.subs(t, 0)\n",
        "simplify(w)"
      ],
      "metadata": {
        "colab": {
          "base_uri": "https://localhost:8080/",
          "height": 38
        },
        "id": "M8k-fPiC13qa",
        "outputId": "3ace7b6c-25c0-488f-ddac-5944c64d9ea7"
      },
      "execution_count": null,
      "outputs": [
        {
          "output_type": "execute_result",
          "data": {
            "text/plain": [
              "0.5⋅cos(500⋅t) + 0.5"
            ],
            "text/latex": "$\\displaystyle 0.5 \\cos{\\left(500 t \\right)} + 0.5$"
          },
          "metadata": {},
          "execution_count": 37
        }
      ]
    },
    {
      "cell_type": "code",
      "source": [
        "plot(i, v, p/10, 10*w, (t, 0, 8*pi/1000)).save('temp9.png')"
      ],
      "metadata": {
        "id": "nJYQuN-g13ea"
      },
      "execution_count": null,
      "outputs": []
    },
    {
      "cell_type": "markdown",
      "source": [
        "Problem 6.10"
      ],
      "metadata": {
        "id": "oti7ygXUeR2g"
      }
    },
    {
      "cell_type": "code",
      "source": [
        "import sympy\n",
        "sympy.init_session()\n",
        "i = (10*cos(4*t) + 5*sin(4*t))*exp(-t/2)\n",
        "v = diff(i, t).doit()\n",
        "p = simplify(v * i)\n",
        "plot(i, v, p/10, (t, 0, pi)).save('drive/MyDrive/Colab Notebooks/plots/n6-10.png')"
      ],
      "metadata": {
        "colab": {
          "base_uri": "https://localhost:8080/"
        },
        "id": "VcmOFcQteQrv",
        "outputId": "85b9f7ee-ca1b-4749-ed4a-2aa7dd0e89fd"
      },
      "execution_count": null,
      "outputs": [
        {
          "output_type": "stream",
          "name": "stdout",
          "text": [
            "IPython console for SymPy 1.12 (Python 3.10.12-64-bit) (ground types: python)\n",
            "\n",
            "These commands were executed:\n",
            ">>> from sympy import *\n",
            ">>> x, y, z, t = symbols('x y z t')\n",
            ">>> k, m, n = symbols('k m n', integer=True)\n",
            ">>> f, g, h = symbols('f g h', cls=Function)\n",
            ">>> init_printing()\n",
            "\n",
            "Documentation can be found at https://docs.sympy.org/1.12/\n",
            "\n"
          ]
        }
      ]
    },
    {
      "cell_type": "code",
      "source": [
        "simplify(v)"
      ],
      "metadata": {
        "colab": {
          "base_uri": "https://localhost:8080/",
          "height": 56
        },
        "id": "QJpLYtcwgc7-",
        "outputId": "d24d7d41-d93e-43d3-8b76-332533fd0747"
      },
      "execution_count": null,
      "outputs": [
        {
          "output_type": "execute_result",
          "data": {
            "text/plain": [
              "                               -t \n",
              "                               ───\n",
              "                                2 \n",
              "25⋅(-3⋅sin(4⋅t) - 2⋅cos(4⋅t))⋅ℯ   \n",
              "──────────────────────────────────\n",
              "                2                 "
            ],
            "text/latex": "$\\displaystyle \\frac{25 \\left(- 3 \\sin{\\left(4 t \\right)} - 2 \\cos{\\left(4 t \\right)}\\right) e^{- \\frac{t}{2}}}{2}$"
          },
          "metadata": {},
          "execution_count": 5
        }
      ]
    },
    {
      "cell_type": "code",
      "source": [
        "B1, B2 = symbols('B1 B2')\n",
        "i = (B1*cos(4*t) + B2*sin(4*t))*exp(-t/2)\n",
        "v = 4*diff(i, t).doit()\n",
        "linsolve([i.subs(t,0)-10, v.subs(t,0)-60], (B1, B2))"
      ],
      "metadata": {
        "colab": {
          "base_uri": "https://localhost:8080/",
          "height": 37
        },
        "id": "dV1_LNeygs7v",
        "outputId": "9b12d414-5a5e-4883-e4b5-b00cd588b9f6"
      },
      "execution_count": null,
      "outputs": [
        {
          "output_type": "execute_result",
          "data": {
            "text/plain": [
              "{(10, 5)}"
            ],
            "text/latex": "$\\displaystyle \\left\\{\\left( 10, \\  5\\right)\\right\\}$"
          },
          "metadata": {},
          "execution_count": 20
        }
      ]
    },
    {
      "cell_type": "markdown",
      "source": [
        "Example 6.4"
      ],
      "metadata": {
        "id": "mGa5KJIETrPY"
      }
    },
    {
      "cell_type": "code",
      "source": [
        "import sympy\n",
        "sympy.init_session()\n",
        "from sympy import Heaviside as u"
      ],
      "metadata": {
        "colab": {
          "base_uri": "https://localhost:8080/"
        },
        "id": "rZS5Ob0xhlj-",
        "outputId": "1371421a-89b3-48fa-c552-0ba25db6100b"
      },
      "execution_count": null,
      "outputs": [
        {
          "output_type": "stream",
          "name": "stdout",
          "text": [
            "IPython console for SymPy 1.12 (Python 3.10.12-64-bit) (ground types: python)\n",
            "\n",
            "These commands were executed:\n",
            ">>> from sympy import *\n",
            ">>> x, y, z, t = symbols('x y z t')\n",
            ">>> k, m, n = symbols('k m n', integer=True)\n",
            ">>> f, g, h = symbols('f g h', cls=Function)\n",
            ">>> init_printing()\n",
            "\n",
            "Documentation can be found at https://docs.sympy.org/1.12/\n",
            "\n"
          ]
        }
      ]
    },
    {
      "cell_type": "code",
      "source": [
        "v1 = 4*t\n",
        "v2 = 4*exp(-t)\n",
        "integrate(diff(v1, t), (t, 0, 1))"
      ],
      "metadata": {
        "colab": {
          "base_uri": "https://localhost:8080/",
          "height": 37
        },
        "id": "HNgytzhWT7FJ",
        "outputId": "a0f6e5d5-4bc4-4d92-8857-f5701f40de4a"
      },
      "execution_count": null,
      "outputs": [
        {
          "output_type": "execute_result",
          "data": {
            "text/plain": [
              "4"
            ],
            "text/latex": "$\\displaystyle 4$"
          },
          "metadata": {},
          "execution_count": 3
        }
      ]
    },
    {
      "cell_type": "code",
      "source": [
        "integrate(diff(v2, t), (t, 0, oo))"
      ],
      "metadata": {
        "colab": {
          "base_uri": "https://localhost:8080/",
          "height": 37
        },
        "id": "co0JXsomUaFS",
        "outputId": "09fdb944-cedc-4e8b-89da-059bebf7d4b4"
      },
      "execution_count": null,
      "outputs": [
        {
          "output_type": "execute_result",
          "data": {
            "text/plain": [
              "-4"
            ],
            "text/latex": "$\\displaystyle -4$"
          },
          "metadata": {},
          "execution_count": 4
        }
      ]
    },
    {
      "cell_type": "markdown",
      "source": [
        "Example 6.5\n"
      ],
      "metadata": {
        "id": "jR8wNaCtanMK"
      }
    },
    {
      "cell_type": "code",
      "source": [
        "C = 0.2e-6\n",
        "t0, t1, t2 = 0, 20e-6, 40e-6\n",
        "v0, i1, i2 = 0, 5000*t, 0.2-5000*t\n",
        "v1 = v0 + integrate(i1, (t, t0, t))/C\n",
        "v2 = v1.subs(t, t1) + integrate(i2, (t, t1, t))/C\n",
        "p1, p2 = v1*i1, v2*i2\n",
        "w1 = (C/2)*v0**2 + integrate(p1, (t, t0, t))\n",
        "w2 = w1.subs(t, t1) + integrate(p2, (t, t1, t))\n",
        "vf, wf = v2.subs(t, t2), w2.subs(t, w2)\n",
        "u1 = u(t).subs(t, t-t0) - u(t).subs(t, t-t1)\n",
        "u2 = u(t).subs(t, t-t1) - u(t).subs(t, t-t2)\n",
        "i = i1*u1 + i2*u2\n",
        "v = v1*u1 + v2*u2\n",
        "p = p1*u1 + p2*u2\n",
        "w = w1*u1 + w2*u2\n",
        "plot(i, v/20, p, 1e3*w, (t, t0, t2)).save('temp.png')"
      ],
      "metadata": {
        "id": "8L_VbLXuami0"
      },
      "execution_count": null,
      "outputs": []
    },
    {
      "cell_type": "code",
      "source": [
        "factor(a)"
      ],
      "metadata": {
        "colab": {
          "base_uri": "https://localhost:8080/",
          "height": 38
        },
        "id": "2UwI48r-a1fB",
        "outputId": "6ed1f41b-2778-47d8-f827-6ea8b28bdf01"
      },
      "execution_count": null,
      "outputs": [
        {
          "output_type": "execute_result",
          "data": {
            "text/plain": [
              "-12500000000.0⋅(1.0⋅t - 6.0e-5)⋅(1.0⋅t - 2.0e-5)"
            ],
            "text/latex": "$\\displaystyle - 12500000000.0 \\cdot \\left(1.0 t - 6.0 \\cdot 10^{-5}\\right) \\left(1.0 t - 2.0 \\cdot 10^{-5}\\right)$"
          },
          "metadata": {},
          "execution_count": 10
        }
      ]
    },
    {
      "cell_type": "code",
      "source": [
        "a.subs(t, 2e-5)"
      ],
      "metadata": {
        "colab": {
          "base_uri": "https://localhost:8080/",
          "height": 37
        },
        "id": "sIm23WEPa_-g",
        "outputId": "59068407-21d9-4094-9712-823e0f836461"
      },
      "execution_count": null,
      "outputs": [
        {
          "output_type": "execute_result",
          "data": {
            "text/plain": [
              "-2.66453525910038e-15"
            ],
            "text/latex": "$\\displaystyle -2.66453525910038 \\cdot 10^{-15}$"
          },
          "metadata": {},
          "execution_count": 12
        }
      ]
    },
    {
      "cell_type": "code",
      "source": [
        "plot(u1, (t, 0, 1e-4)).save('temp.png')"
      ],
      "metadata": {
        "id": "SyHNWdUkbRwV"
      },
      "execution_count": null,
      "outputs": []
    },
    {
      "cell_type": "markdown",
      "source": [
        "Objective 2) 6.2"
      ],
      "metadata": {
        "id": "wIRs35BNN_xR"
      }
    },
    {
      "cell_type": "code",
      "source": [
        "import sympy\n",
        "sympy.init_session()\n",
        "C = 6e-7\n",
        "v = 40*exp(-15000*t)*sin(30000*t)\n",
        "i = C*diff(v, t)\n",
        "i.subs(t, 0)"
      ],
      "metadata": {
        "colab": {
          "base_uri": "https://localhost:8080/",
          "height": 224
        },
        "id": "_E5KIOLSfJGl",
        "outputId": "9b0f9954-ce48-439b-98e6-766043d96851"
      },
      "execution_count": null,
      "outputs": [
        {
          "output_type": "stream",
          "name": "stdout",
          "text": [
            "IPython console for SymPy 1.12 (Python 3.10.12-64-bit) (ground types: python)\n",
            "\n",
            "These commands were executed:\n",
            ">>> from sympy import *\n",
            ">>> x, y, z, t = symbols('x y z t')\n",
            ">>> k, m, n = symbols('k m n', integer=True)\n",
            ">>> f, g, h = symbols('f g h', cls=Function)\n",
            ">>> init_printing()\n",
            "\n",
            "Documentation can be found at https://docs.sympy.org/1.12/\n",
            "\n"
          ]
        },
        {
          "output_type": "execute_result",
          "data": {
            "text/plain": [
              "0.720000000000000"
            ],
            "text/latex": "$\\displaystyle 0.72$"
          },
          "metadata": {},
          "execution_count": 5
        }
      ]
    },
    {
      "cell_type": "code",
      "source": [
        "p = v*i\n",
        "plot(i, v/20, p/10, (t, 0, pi/80e3)).save('temp.png')"
      ],
      "metadata": {
        "id": "TAJvB3U3Or2m"
      },
      "execution_count": null,
      "outputs": []
    },
    {
      "cell_type": "code",
      "source": [
        "p.subs(t, pi/80e3).evalf()"
      ],
      "metadata": {
        "colab": {
          "base_uri": "https://localhost:8080/",
          "height": 37
        },
        "id": "aPiInb2IOrOB",
        "outputId": "e6c9d823-dce4-431f-a822-cfd23d7de4cb"
      },
      "execution_count": null,
      "outputs": [
        {
          "output_type": "execute_result",
          "data": {
            "text/plain": [
              "-0.649233140537495"
            ],
            "text/latex": "$\\displaystyle -0.649233140537495$"
          },
          "metadata": {},
          "execution_count": 10
        }
      ]
    },
    {
      "cell_type": "code",
      "source": [
        "integrate(p, (t, 0, pi/80e3)).evalf()"
      ],
      "metadata": {
        "colab": {
          "base_uri": "https://localhost:8080/",
          "height": 37
        },
        "id": "NyRrK5v4OqoU",
        "outputId": "08804c40-ced0-4df3-9b83-88c8844817a2"
      },
      "execution_count": null,
      "outputs": [
        {
          "output_type": "execute_result",
          "data": {
            "text/plain": [
              "0.000126133601553096"
            ],
            "text/latex": "$\\displaystyle 0.000126133601553096$"
          },
          "metadata": {},
          "execution_count": 12
        }
      ]
    },
    {
      "cell_type": "code",
      "source": [
        "simplify(sin(t)*cos(t))"
      ],
      "metadata": {
        "colab": {
          "base_uri": "https://localhost:8080/",
          "height": 53
        },
        "id": "mmSybXWAYihK",
        "outputId": "90e6bf7b-64e9-4fb6-8644-208a6363ab09"
      },
      "execution_count": null,
      "outputs": [
        {
          "output_type": "execute_result",
          "data": {
            "text/plain": [
              "sin(2⋅t)\n",
              "────────\n",
              "   2    "
            ],
            "text/latex": "$\\displaystyle \\frac{\\sin{\\left(2 t \\right)}}{2}$"
          },
          "metadata": {},
          "execution_count": 13
        }
      ]
    },
    {
      "cell_type": "code",
      "source": [
        "simplify(diff(2e-5*30*(t-1)**2, t))"
      ],
      "metadata": {
        "colab": {
          "base_uri": "https://localhost:8080/",
          "height": 38
        },
        "id": "GMvHmPxTYoMO",
        "outputId": "4ee70ae8-47d4-4fc1-9647-2a3fa051bcbb"
      },
      "execution_count": null,
      "outputs": [
        {
          "output_type": "execute_result",
          "data": {
            "text/plain": [
              "0.0012⋅t - 0.0012"
            ],
            "text/latex": "$\\displaystyle 0.0012 t - 0.0012$"
          },
          "metadata": {},
          "execution_count": 15
        }
      ]
    },
    {
      "cell_type": "code",
      "source": [
        "plot((t-1)**2, (1-t)**2, (t, 0, 1.5)).save('temp.png')"
      ],
      "metadata": {
        "id": "JLySpzRNehlx"
      },
      "execution_count": null,
      "outputs": []
    }
  ]
}